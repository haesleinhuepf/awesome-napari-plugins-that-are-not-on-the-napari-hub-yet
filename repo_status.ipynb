{
 "cells": [
  {
   "cell_type": "code",
   "execution_count": 3,
   "id": "270c2d57-1d3b-4b90-af62-1fcd424f2c27",
   "metadata": {},
   "outputs": [],
   "source": [
    "import pandas as pd"
   ]
  },
  {
   "cell_type": "code",
   "execution_count": 6,
   "id": "2c417f86",
   "metadata": {},
   "outputs": [],
   "source": [
    "template = \"\"\"\n",
    "### [{reponame}](https://github.com/{orgname}/{reponame})\n",
    "\n",
    "[![PyPI](https://img.shields.io/pypi/v/{reponame}.svg?color=green)](https://pypi.org/project/napari-brightness-contrast)\n",
    "[![codecov](https://codecov.io/gh/{orgname}/{reponame}/branch/master/graph/badge.svg)](https://codecov.io/gh/{orgname}/{reponame})\n",
    "[![tests](https://github.com/{orgname}/{reponame}/workflows/tests/badge.svg)](https://github.com/{orgname}/{reponame}/actions)\n",
    "[![Development Status](https://img.shields.io/pypi/status/{reponame}.svg)](https://en.wikipedia.org/wiki/Software_release_life_cycle#Alpha)\n",
    "[![](https://img.shields.io/github/release-date-pre/{orgname}/{reponame})](https://github.com/{orgname}/{reponame}/releases)\n",
    "\n",
    "{description}\n",
    "\n",
    "Developer's intention: {developer_intention}\n",
    "\n",
    "Website: [{link}]({link})\n",
    "\n",
    "---\n",
    "\n",
    "\"\"\""
   ]
  },
  {
   "cell_type": "code",
   "execution_count": 11,
   "id": "6cd23c40-118c-4416-8247-b2dffee2c5de",
   "metadata": {},
   "outputs": [
    {
     "data": {
      "text/html": [
       "<div>\n",
       "<style scoped>\n",
       "    .dataframe tbody tr th:only-of-type {\n",
       "        vertical-align: middle;\n",
       "    }\n",
       "\n",
       "    .dataframe tbody tr th {\n",
       "        vertical-align: top;\n",
       "    }\n",
       "\n",
       "    .dataframe thead th {\n",
       "        text-align: right;\n",
       "    }\n",
       "</style>\n",
       "<table border=\"1\" class=\"dataframe\">\n",
       "  <thead>\n",
       "    <tr style=\"text-align: right;\">\n",
       "      <th></th>\n",
       "      <th>github organization</th>\n",
       "      <th>github repository</th>\n",
       "      <th>short description</th>\n",
       "      <th>developer intention</th>\n",
       "      <th>link</th>\n",
       "    </tr>\n",
       "  </thead>\n",
       "  <tbody>\n",
       "    <tr>\n",
       "      <th>0</th>\n",
       "      <td>haesleinhuepf</td>\n",
       "      <td>napari-pillow-image-processing</td>\n",
       "      <td>Process images using pillow from within napari</td>\n",
       "      <td>just playing</td>\n",
       "      <td>NaN</td>\n",
       "    </tr>\n",
       "  </tbody>\n",
       "</table>\n",
       "</div>"
      ],
      "text/plain": [
       "  github organization               github repository  \\\n",
       "0       haesleinhuepf  napari-pillow-image-processing   \n",
       "\n",
       "                                short description developer intention  link  \n",
       "0  Process images using pillow from within napari        just playing   NaN  "
      ]
     },
     "execution_count": 11,
     "metadata": {},
     "output_type": "execute_result"
    }
   ],
   "source": [
    "table = pd.read_csv(\"list.csv\")\n",
    "table"
   ]
  },
  {
   "cell_type": "code",
   "execution_count": 12,
   "id": "b7703700-b1ea-43a9-8f5f-9c477adf4e50",
   "metadata": {},
   "outputs": [
    {
     "data": {
      "text/plain": [
       "Index(['github organization', 'github repository', 'short description',\n",
       "       'developer intention', 'link'],\n",
       "      dtype='object')"
      ]
     },
     "execution_count": 12,
     "metadata": {},
     "output_type": "execute_result"
    }
   ],
   "source": [
    "table.keys()"
   ]
  },
  {
   "cell_type": "code",
   "execution_count": 14,
   "id": "fd3efa1c",
   "metadata": {},
   "outputs": [
    {
     "data": {
      "text/markdown": [
       "\n",
       "### [napari-pillow-image-processing](https://github.com/haesleinhuepf/napari-pillow-image-processing)\n",
       "\n",
       "[![PyPI](https://img.shields.io/pypi/v/napari-pillow-image-processing.svg?color=green)](https://pypi.org/project/napari-brightness-contrast)\n",
       "[![codecov](https://codecov.io/gh/haesleinhuepf/napari-pillow-image-processing/branch/master/graph/badge.svg)](https://codecov.io/gh/haesleinhuepf/napari-pillow-image-processing)\n",
       "[![tests](https://github.com/haesleinhuepf/napari-pillow-image-processing/workflows/tests/badge.svg)](https://github.com/haesleinhuepf/napari-pillow-image-processing/actions)\n",
       "[![Development Status](https://img.shields.io/pypi/status/napari-pillow-image-processing.svg)](https://en.wikipedia.org/wiki/Software_release_life_cycle#Alpha)\n",
       "[![](https://img.shields.io/github/release-date-pre/haesleinhuepf/napari-pillow-image-processing)](https://github.com/haesleinhuepf/napari-pillow-image-processing/releases)\n",
       "\n",
       "Process images using pillow from within napari\n",
       "\n",
       "Developer's intention: just playing\n",
       "\n",
       "Website: [nan](nan)\n",
       "\n",
       "---\n",
       "\n"
      ],
      "text/plain": [
       "<IPython.core.display.Markdown object>"
      ]
     },
     "metadata": {},
     "output_type": "display_data"
    }
   ],
   "source": [
    "from IPython.display import display, Markdown, Latex\n",
    "import nump\n",
    "    \n",
    "output = \"\"\n",
    "for r in range(len(table)):\n",
    "    orgname = table[\"github organization\"][r]\n",
    "    reponame = table[\"github repository\"][r]\n",
    "    description = table[\"short description\"][r]\n",
    "    developer_intention = table[\"developer intention\"][r]\n",
    "    link = table[\"link\"][r]\n",
    "    if link is None or np.isNan(link):\n",
    "        link = \"\"\n",
    "    \n",
    "    text = template.format(\n",
    "        orgname=orgname, \n",
    "        reponame=reponame,\n",
    "        link=link,\n",
    "        description=description,\n",
    "        developer_intention=developer_intention,\n",
    "    )\n",
    "    \n",
    "    \n",
    "    output = output + text\n",
    "display(Markdown(output))\n",
    "\n",
    "\n",
    "\n",
    "with open('readme.md', 'w') as f:\n",
    "    \n",
    "    with open('readme_header.md', 'r') as header:\n",
    "        f.write(header.read())\n",
    "    \n",
    "    f.write(output)"
   ]
  },
  {
   "cell_type": "code",
   "execution_count": null,
   "id": "8ebdd19e",
   "metadata": {},
   "outputs": [],
   "source": []
  }
 ],
 "metadata": {
  "kernelspec": {
   "display_name": "Python 3 (ipykernel)",
   "language": "python",
   "name": "python3"
  },
  "language_info": {
   "codemirror_mode": {
    "name": "ipython",
    "version": 3
   },
   "file_extension": ".py",
   "mimetype": "text/x-python",
   "name": "python",
   "nbconvert_exporter": "python",
   "pygments_lexer": "ipython3",
   "version": "3.9.7"
  }
 },
 "nbformat": 4,
 "nbformat_minor": 5
}
